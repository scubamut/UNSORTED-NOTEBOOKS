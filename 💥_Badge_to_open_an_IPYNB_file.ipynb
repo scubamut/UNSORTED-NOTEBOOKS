{
  "nbformat": 4,
  "nbformat_minor": 0,
  "metadata": {
    "colab": {
      "provenance": [],
      "authorship_tag": "ABX9TyMGKp3KAG0P6iir47sinulo",
      "include_colab_link": true
    },
    "kernelspec": {
      "name": "python3",
      "display_name": "Python 3"
    },
    "language_info": {
      "name": "python"
    }
  },
  "cells": [
    {
      "cell_type": "markdown",
      "metadata": {
        "id": "view-in-github",
        "colab_type": "text"
      },
      "source": [
        "<a href=\"https://colab.research.google.com/github/scubamut/UNSORTED-NOTEBOOKS/blob/master/%F0%9F%92%A5_Badge_to_open_an_IPYNB_file.ipynb\" target=\"_parent\"><img src=\"https://colab.research.google.com/assets/colab-badge.svg\" alt=\"Open In Colab\"/></a>"
      ]
    },
    {
      "cell_type": "markdown",
      "source": [
        "# OPEN A URL IN COLAB:"
      ],
      "metadata": {
        "id": "V6vg9r1z0oms"
      }
    },
    {
      "cell_type": "markdown",
      "source": [
        "<a href=\"https://colab.research.google.com/github/scubamut/MY_STRATEGIES/blob/master/MY_AS_STRATEGIES/%5BWIP%5D%20Dynamic%20Asset%20Allocation.ipynb\"\n",
        " target=\"_blank\" rel=\"nofollow\" aria-label=\" Link will open in a new tab\">\n",
        "<img src=\"https://colab.research.google.com/assets/colab-badge.svg\" alt=\"Open In Colab\">\n",
        "</a>"
      ],
      "metadata": {
        "id": "jLRH_Kb-0ZWh"
      }
    },
    {
      "cell_type": "markdown",
      "source": [
        "SEE https://shields.io/"
      ],
      "metadata": {
        "id": "-AcpnjPL2R4n"
      }
    },
    {
      "cell_type": "markdown",
      "source": [
        "# GITHUB REPOSITORY"
      ],
      "metadata": {
        "id": "QX6Dg0x72hyu"
      }
    },
    {
      "cell_type": "code",
      "source": [
        "URL = \"https://colab.research.google.com/github/scubamut/MY_STRATEGIES/blob/master/\\\n",
        "MY_AS_STRATEGIES/%5BWIP%5D%20Dynamic%20Asset%20Allocation.ipynb\""
      ],
      "metadata": {
        "id": "ZC-xKiIa3OA6"
      },
      "execution_count": null,
      "outputs": []
    },
    {
      "cell_type": "code",
      "source": [
        "%%HTML\n",
        "<a href=\"https://colab.research.google.com/github/scubamut/MY_STRATEGIES/blob/master/\\\n",
        "MY_AS_STRATEGIES/%5BWIP%5D%20Dynamic%20Asset%20Allocation.ipynb\"\n",
        " target=\"_blank\" rel=\"nofollow\" aria-label=\" Link will open in a new tab\">\n",
        "<img src=\"https://colab.research.google.com/assets/colab-badge.svg\" alt=\"Open In Colab\">\n",
        "</a>"
      ],
      "metadata": {
        "colab": {
          "base_uri": "https://localhost:8080/",
          "height": 41
        },
        "id": "TfpvJMEI3XOB",
        "outputId": "ea1c3487-7734-4e2f-e100-cfad34cb7f20"
      },
      "execution_count": null,
      "outputs": [
        {
          "output_type": "display_data",
          "data": {
            "text/plain": [
              "<IPython.core.display.HTML object>"
            ],
            "text/html": [
              "<a href=\"https://colab.research.google.com/github/scubamut/MY_STRATEGIES/blob/master/\\\n",
              "MY_AS_STRATEGIES/%5BWIP%5D%20Dynamic%20Asset%20Allocation.ipynb\"\n",
              " target=\"_blank\" rel=\"nofollow\" aria-label=\" Link will open in a new tab\">\n",
              "<img src=\"https://colab.research.google.com/assets/colab-badge.svg\" alt=\"Open In Colab\">\n",
              "</a>\n"
            ]
          },
          "metadata": {}
        }
      ]
    },
    {
      "cell_type": "markdown",
      "source": [
        "# AS HTML:"
      ],
      "metadata": {
        "id": "-V1p6Cid0z_Z"
      }
    },
    {
      "cell_type": "code",
      "execution_count": null,
      "metadata": {
        "colab": {
          "base_uri": "https://localhost:8080/",
          "height": 41
        },
        "id": "4JTccHf30AhD",
        "outputId": "8b57663f-f10f-477c-929f-24335917f87c"
      },
      "outputs": [
        {
          "output_type": "display_data",
          "data": {
            "text/plain": [
              "<IPython.core.display.HTML object>"
            ],
            "text/html": [
              "<a href=\"https://colab.research.google.com/github/scubamut/MY_STRATEGIES/blob/master/MY_AS_STRATEGIES/%5BWIP%5D%20Dynamic%20Asset%20Allocation.ipynb\"\n",
              " target=\"_blank\" rel=\"nofollow\" aria-label=\" Link will open in a new tab\">\n",
              "<img src=\"https://colab.research.google.com/assets/colab-badge.svg\" alt=\"Open In Colab\">\n",
              "</a>\n"
            ]
          },
          "metadata": {}
        }
      ],
      "source": [
        "%%HTML\n",
        "<a href=\"https://colab.research.google.com/github/scubamut/MY_STRATEGIES/blob/master/MY_AS_STRATEGIES/%5BWIP%5D%20Dynamic%20Asset%20Allocation.ipynb\"\n",
        " target=\"_blank\" rel=\"nofollow\" aria-label=\" Link will open in a new tab\">\n",
        "<img src=\"https://colab.research.google.com/assets/colab-badge.svg\" alt=\"Open In Colab\">\n",
        "</a>"
      ]
    }
  ]
}