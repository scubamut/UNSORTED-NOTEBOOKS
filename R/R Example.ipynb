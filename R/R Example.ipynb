{
 "cells": [
  {
   "cell_type": "code",
   "execution_count": 1,
   "metadata": {},
   "outputs": [
    {
     "ename": "ERROR",
     "evalue": "Error in library(dplyr): there is no package called 'dplyr'\n",
     "output_type": "error",
     "traceback": [
      "Error in library(dplyr): there is no package called 'dplyr'\nTraceback:\n",
      "1. library(dplyr)",
      "2. stop(txt, domain = NA)"
     ]
    }
   ],
   "source": [
    "library(dplyr)"
   ]
  },
  {
   "cell_type": "code",
   "execution_count": 2,
   "metadata": {},
   "outputs": [
    {
     "data": {
      "text/html": [
       "<table>\n",
       "<thead><tr><th></th><th scope=col>Sepal.Length</th><th scope=col>Sepal.Width</th><th scope=col>Petal.Length</th><th scope=col>Petal.Width</th><th scope=col>Species</th></tr></thead>\n",
       "<tbody>\n",
       "\t<tr><th scope=row>1</th><td>5.1   </td><td>3.5   </td><td>1.4   </td><td>0.2   </td><td>setosa</td></tr>\n",
       "\t<tr><th scope=row>2</th><td>4.9   </td><td>3     </td><td>1.4   </td><td>0.2   </td><td>setosa</td></tr>\n",
       "\t<tr><th scope=row>3</th><td>4.7   </td><td>3.2   </td><td>1.3   </td><td>0.2   </td><td>setosa</td></tr>\n",
       "\t<tr><th scope=row>4</th><td>4.6   </td><td>3.1   </td><td>1.5   </td><td>0.2   </td><td>setosa</td></tr>\n",
       "\t<tr><th scope=row>5</th><td>5     </td><td>3.6   </td><td>1.4   </td><td>0.2   </td><td>setosa</td></tr>\n",
       "\t<tr><th scope=row>6</th><td>5.4   </td><td>3.9   </td><td>1.7   </td><td>0.4   </td><td>setosa</td></tr>\n",
       "\t<tr><th scope=row>7</th><td>4.6   </td><td>3.4   </td><td>1.4   </td><td>0.3   </td><td>setosa</td></tr>\n",
       "\t<tr><th scope=row>8</th><td>5     </td><td>3.4   </td><td>1.5   </td><td>0.2   </td><td>setosa</td></tr>\n",
       "\t<tr><th scope=row>9</th><td>4.4   </td><td>2.9   </td><td>1.4   </td><td>0.2   </td><td>setosa</td></tr>\n",
       "\t<tr><th scope=row>10</th><td>4.9   </td><td>3.1   </td><td>1.5   </td><td>0.1   </td><td>setosa</td></tr>\n",
       "\t<tr><th scope=row>11</th><td>5.4   </td><td>3.7   </td><td>1.5   </td><td>0.2   </td><td>setosa</td></tr>\n",
       "\t<tr><th scope=row>12</th><td>4.8   </td><td>3.4   </td><td>1.6   </td><td>0.2   </td><td>setosa</td></tr>\n",
       "\t<tr><th scope=row>13</th><td>4.8   </td><td>3     </td><td>1.4   </td><td>0.1   </td><td>setosa</td></tr>\n",
       "\t<tr><th scope=row>14</th><td>4.3   </td><td>3     </td><td>1.1   </td><td>0.1   </td><td>setosa</td></tr>\n",
       "\t<tr><th scope=row>15</th><td>5.8   </td><td>4     </td><td>1.2   </td><td>0.2   </td><td>setosa</td></tr>\n",
       "\t<tr><th scope=row>16</th><td>5.7   </td><td>4.4   </td><td>1.5   </td><td>0.4   </td><td>setosa</td></tr>\n",
       "\t<tr><th scope=row>17</th><td>5.4   </td><td>3.9   </td><td>1.3   </td><td>0.4   </td><td>setosa</td></tr>\n",
       "\t<tr><th scope=row>18</th><td>5.1   </td><td>3.5   </td><td>1.4   </td><td>0.3   </td><td>setosa</td></tr>\n",
       "\t<tr><th scope=row>19</th><td>5.7   </td><td>3.8   </td><td>1.7   </td><td>0.3   </td><td>setosa</td></tr>\n",
       "\t<tr><th scope=row>20</th><td>5.1   </td><td>3.8   </td><td>1.5   </td><td>0.3   </td><td>setosa</td></tr>\n",
       "\t<tr><th scope=row>21</th><td>5.4   </td><td>3.4   </td><td>1.7   </td><td>0.2   </td><td>setosa</td></tr>\n",
       "\t<tr><th scope=row>22</th><td>5.1   </td><td>3.7   </td><td>1.5   </td><td>0.4   </td><td>setosa</td></tr>\n",
       "\t<tr><th scope=row>23</th><td>4.6   </td><td>3.6   </td><td>1     </td><td>0.2   </td><td>setosa</td></tr>\n",
       "\t<tr><th scope=row>24</th><td>5.1   </td><td>3.3   </td><td>1.7   </td><td>0.5   </td><td>setosa</td></tr>\n",
       "\t<tr><th scope=row>25</th><td>4.8   </td><td>3.4   </td><td>1.9   </td><td>0.2   </td><td>setosa</td></tr>\n",
       "\t<tr><th scope=row>26</th><td>5     </td><td>3     </td><td>1.6   </td><td>0.2   </td><td>setosa</td></tr>\n",
       "\t<tr><th scope=row>27</th><td>5     </td><td>3.4   </td><td>1.6   </td><td>0.4   </td><td>setosa</td></tr>\n",
       "\t<tr><th scope=row>28</th><td>5.2   </td><td>3.5   </td><td>1.5   </td><td>0.2   </td><td>setosa</td></tr>\n",
       "\t<tr><th scope=row>29</th><td>5.2   </td><td>3.4   </td><td>1.4   </td><td>0.2   </td><td>setosa</td></tr>\n",
       "\t<tr><th scope=row>30</th><td>4.7   </td><td>3.2   </td><td>1.6   </td><td>0.2   </td><td>setosa</td></tr>\n",
       "\t<tr><th scope=row>...</th><td>...</td><td>...</td><td>...</td><td>...</td><td>...</td></tr>\n",
       "\t<tr><th scope=row>121</th><td>6.9      </td><td>3.2      </td><td>5.7      </td><td>2.3      </td><td>virginica</td></tr>\n",
       "\t<tr><th scope=row>122</th><td>5.6      </td><td>2.8      </td><td>4.9      </td><td>2        </td><td>virginica</td></tr>\n",
       "\t<tr><th scope=row>123</th><td>7.7      </td><td>2.8      </td><td>6.7      </td><td>2        </td><td>virginica</td></tr>\n",
       "\t<tr><th scope=row>124</th><td>6.3      </td><td>2.7      </td><td>4.9      </td><td>1.8      </td><td>virginica</td></tr>\n",
       "\t<tr><th scope=row>125</th><td>6.7      </td><td>3.3      </td><td>5.7      </td><td>2.1      </td><td>virginica</td></tr>\n",
       "\t<tr><th scope=row>126</th><td>7.2      </td><td>3.2      </td><td>6        </td><td>1.8      </td><td>virginica</td></tr>\n",
       "\t<tr><th scope=row>127</th><td>6.2      </td><td>2.8      </td><td>4.8      </td><td>1.8      </td><td>virginica</td></tr>\n",
       "\t<tr><th scope=row>128</th><td>6.1      </td><td>3        </td><td>4.9      </td><td>1.8      </td><td>virginica</td></tr>\n",
       "\t<tr><th scope=row>129</th><td>6.4      </td><td>2.8      </td><td>5.6      </td><td>2.1      </td><td>virginica</td></tr>\n",
       "\t<tr><th scope=row>130</th><td>7.2      </td><td>3        </td><td>5.8      </td><td>1.6      </td><td>virginica</td></tr>\n",
       "\t<tr><th scope=row>131</th><td>7.4      </td><td>2.8      </td><td>6.1      </td><td>1.9      </td><td>virginica</td></tr>\n",
       "\t<tr><th scope=row>132</th><td>7.9      </td><td>3.8      </td><td>6.4      </td><td>2        </td><td>virginica</td></tr>\n",
       "\t<tr><th scope=row>133</th><td>6.4      </td><td>2.8      </td><td>5.6      </td><td>2.2      </td><td>virginica</td></tr>\n",
       "\t<tr><th scope=row>134</th><td>6.3      </td><td>2.8      </td><td>5.1      </td><td>1.5      </td><td>virginica</td></tr>\n",
       "\t<tr><th scope=row>135</th><td>6.1      </td><td>2.6      </td><td>5.6      </td><td>1.4      </td><td>virginica</td></tr>\n",
       "\t<tr><th scope=row>136</th><td>7.7      </td><td>3        </td><td>6.1      </td><td>2.3      </td><td>virginica</td></tr>\n",
       "\t<tr><th scope=row>137</th><td>6.3      </td><td>3.4      </td><td>5.6      </td><td>2.4      </td><td>virginica</td></tr>\n",
       "\t<tr><th scope=row>138</th><td>6.4      </td><td>3.1      </td><td>5.5      </td><td>1.8      </td><td>virginica</td></tr>\n",
       "\t<tr><th scope=row>139</th><td>6        </td><td>3        </td><td>4.8      </td><td>1.8      </td><td>virginica</td></tr>\n",
       "\t<tr><th scope=row>140</th><td>6.9      </td><td>3.1      </td><td>5.4      </td><td>2.1      </td><td>virginica</td></tr>\n",
       "\t<tr><th scope=row>141</th><td>6.7      </td><td>3.1      </td><td>5.6      </td><td>2.4      </td><td>virginica</td></tr>\n",
       "\t<tr><th scope=row>142</th><td>6.9      </td><td>3.1      </td><td>5.1      </td><td>2.3      </td><td>virginica</td></tr>\n",
       "\t<tr><th scope=row>143</th><td>5.8      </td><td>2.7      </td><td>5.1      </td><td>1.9      </td><td>virginica</td></tr>\n",
       "\t<tr><th scope=row>144</th><td>6.8      </td><td>3.2      </td><td>5.9      </td><td>2.3      </td><td>virginica</td></tr>\n",
       "\t<tr><th scope=row>145</th><td>6.7      </td><td>3.3      </td><td>5.7      </td><td>2.5      </td><td>virginica</td></tr>\n",
       "\t<tr><th scope=row>146</th><td>6.7      </td><td>3        </td><td>5.2      </td><td>2.3      </td><td>virginica</td></tr>\n",
       "\t<tr><th scope=row>147</th><td>6.3      </td><td>2.5      </td><td>5        </td><td>1.9      </td><td>virginica</td></tr>\n",
       "\t<tr><th scope=row>148</th><td>6.5      </td><td>3        </td><td>5.2      </td><td>2        </td><td>virginica</td></tr>\n",
       "\t<tr><th scope=row>149</th><td>6.2      </td><td>3.4      </td><td>5.4      </td><td>2.3      </td><td>virginica</td></tr>\n",
       "\t<tr><th scope=row>150</th><td>5.9      </td><td>3        </td><td>5.1      </td><td>1.8      </td><td>virginica</td></tr>\n",
       "</tbody>\n",
       "</table>\n"
      ],
      "text/latex": [
       "\\begin{tabular}{r|lllll}\n",
       "  & Sepal.Length & Sepal.Width & Petal.Length & Petal.Width & Species\\\\\n",
       "\\hline\n",
       "\t1 & 5.1    & 3.5    & 1.4    & 0.2    & setosa\\\\\n",
       "\t2 & 4.9    & 3      & 1.4    & 0.2    & setosa\\\\\n",
       "\t3 & 4.7    & 3.2    & 1.3    & 0.2    & setosa\\\\\n",
       "\t4 & 4.6    & 3.1    & 1.5    & 0.2    & setosa\\\\\n",
       "\t5 & 5      & 3.6    & 1.4    & 0.2    & setosa\\\\\n",
       "\t6 & 5.4    & 3.9    & 1.7    & 0.4    & setosa\\\\\n",
       "\t7 & 4.6    & 3.4    & 1.4    & 0.3    & setosa\\\\\n",
       "\t8 & 5      & 3.4    & 1.5    & 0.2    & setosa\\\\\n",
       "\t9 & 4.4    & 2.9    & 1.4    & 0.2    & setosa\\\\\n",
       "\t10 & 4.9    & 3.1    & 1.5    & 0.1    & setosa\\\\\n",
       "\t11 & 5.4    & 3.7    & 1.5    & 0.2    & setosa\\\\\n",
       "\t12 & 4.8    & 3.4    & 1.6    & 0.2    & setosa\\\\\n",
       "\t13 & 4.8    & 3      & 1.4    & 0.1    & setosa\\\\\n",
       "\t14 & 4.3    & 3      & 1.1    & 0.1    & setosa\\\\\n",
       "\t15 & 5.8    & 4      & 1.2    & 0.2    & setosa\\\\\n",
       "\t16 & 5.7    & 4.4    & 1.5    & 0.4    & setosa\\\\\n",
       "\t17 & 5.4    & 3.9    & 1.3    & 0.4    & setosa\\\\\n",
       "\t18 & 5.1    & 3.5    & 1.4    & 0.3    & setosa\\\\\n",
       "\t19 & 5.7    & 3.8    & 1.7    & 0.3    & setosa\\\\\n",
       "\t20 & 5.1    & 3.8    & 1.5    & 0.3    & setosa\\\\\n",
       "\t21 & 5.4    & 3.4    & 1.7    & 0.2    & setosa\\\\\n",
       "\t22 & 5.1    & 3.7    & 1.5    & 0.4    & setosa\\\\\n",
       "\t23 & 4.6    & 3.6    & 1      & 0.2    & setosa\\\\\n",
       "\t24 & 5.1    & 3.3    & 1.7    & 0.5    & setosa\\\\\n",
       "\t25 & 4.8    & 3.4    & 1.9    & 0.2    & setosa\\\\\n",
       "\t26 & 5      & 3      & 1.6    & 0.2    & setosa\\\\\n",
       "\t27 & 5      & 3.4    & 1.6    & 0.4    & setosa\\\\\n",
       "\t28 & 5.2    & 3.5    & 1.5    & 0.2    & setosa\\\\\n",
       "\t29 & 5.2    & 3.4    & 1.4    & 0.2    & setosa\\\\\n",
       "\t30 & 4.7    & 3.2    & 1.6    & 0.2    & setosa\\\\\n",
       "\t... & ... & ... & ... & ... & ...\\\\\n",
       "\t121 & 6.9       & 3.2       & 5.7       & 2.3       & virginica\\\\\n",
       "\t122 & 5.6       & 2.8       & 4.9       & 2         & virginica\\\\\n",
       "\t123 & 7.7       & 2.8       & 6.7       & 2         & virginica\\\\\n",
       "\t124 & 6.3       & 2.7       & 4.9       & 1.8       & virginica\\\\\n",
       "\t125 & 6.7       & 3.3       & 5.7       & 2.1       & virginica\\\\\n",
       "\t126 & 7.2       & 3.2       & 6         & 1.8       & virginica\\\\\n",
       "\t127 & 6.2       & 2.8       & 4.8       & 1.8       & virginica\\\\\n",
       "\t128 & 6.1       & 3         & 4.9       & 1.8       & virginica\\\\\n",
       "\t129 & 6.4       & 2.8       & 5.6       & 2.1       & virginica\\\\\n",
       "\t130 & 7.2       & 3         & 5.8       & 1.6       & virginica\\\\\n",
       "\t131 & 7.4       & 2.8       & 6.1       & 1.9       & virginica\\\\\n",
       "\t132 & 7.9       & 3.8       & 6.4       & 2         & virginica\\\\\n",
       "\t133 & 6.4       & 2.8       & 5.6       & 2.2       & virginica\\\\\n",
       "\t134 & 6.3       & 2.8       & 5.1       & 1.5       & virginica\\\\\n",
       "\t135 & 6.1       & 2.6       & 5.6       & 1.4       & virginica\\\\\n",
       "\t136 & 7.7       & 3         & 6.1       & 2.3       & virginica\\\\\n",
       "\t137 & 6.3       & 3.4       & 5.6       & 2.4       & virginica\\\\\n",
       "\t138 & 6.4       & 3.1       & 5.5       & 1.8       & virginica\\\\\n",
       "\t139 & 6         & 3         & 4.8       & 1.8       & virginica\\\\\n",
       "\t140 & 6.9       & 3.1       & 5.4       & 2.1       & virginica\\\\\n",
       "\t141 & 6.7       & 3.1       & 5.6       & 2.4       & virginica\\\\\n",
       "\t142 & 6.9       & 3.1       & 5.1       & 2.3       & virginica\\\\\n",
       "\t143 & 5.8       & 2.7       & 5.1       & 1.9       & virginica\\\\\n",
       "\t144 & 6.8       & 3.2       & 5.9       & 2.3       & virginica\\\\\n",
       "\t145 & 6.7       & 3.3       & 5.7       & 2.5       & virginica\\\\\n",
       "\t146 & 6.7       & 3         & 5.2       & 2.3       & virginica\\\\\n",
       "\t147 & 6.3       & 2.5       & 5         & 1.9       & virginica\\\\\n",
       "\t148 & 6.5       & 3         & 5.2       & 2         & virginica\\\\\n",
       "\t149 & 6.2       & 3.4       & 5.4       & 2.3       & virginica\\\\\n",
       "\t150 & 5.9       & 3         & 5.1       & 1.8       & virginica\\\\\n",
       "\\end{tabular}\n"
      ],
      "text/plain": [
       "    Sepal.Length Sepal.Width Petal.Length Petal.Width   Species\n",
       "1            5.1         3.5          1.4         0.2    setosa\n",
       "2            4.9           3          1.4         0.2    setosa\n",
       "3            4.7         3.2          1.3         0.2    setosa\n",
       "4            4.6         3.1          1.5         0.2    setosa\n",
       "5              5         3.6          1.4         0.2    setosa\n",
       "6            5.4         3.9          1.7         0.4    setosa\n",
       "7            4.6         3.4          1.4         0.3    setosa\n",
       "8              5         3.4          1.5         0.2    setosa\n",
       "9            4.4         2.9          1.4         0.2    setosa\n",
       "10           4.9         3.1          1.5         0.1    setosa\n",
       "11           5.4         3.7          1.5         0.2    setosa\n",
       "12           4.8         3.4          1.6         0.2    setosa\n",
       "13           4.8           3          1.4         0.1    setosa\n",
       "14           4.3           3          1.1         0.1    setosa\n",
       "15           5.8           4          1.2         0.2    setosa\n",
       "16           5.7         4.4          1.5         0.4    setosa\n",
       "17           5.4         3.9          1.3         0.4    setosa\n",
       "18           5.1         3.5          1.4         0.3    setosa\n",
       "19           5.7         3.8          1.7         0.3    setosa\n",
       "20           5.1         3.8          1.5         0.3    setosa\n",
       "21           5.4         3.4          1.7         0.2    setosa\n",
       "22           5.1         3.7          1.5         0.4    setosa\n",
       "23           4.6         3.6            1         0.2    setosa\n",
       "24           5.1         3.3          1.7         0.5    setosa\n",
       "25           4.8         3.4          1.9         0.2    setosa\n",
       "26             5           3          1.6         0.2    setosa\n",
       "27             5         3.4          1.6         0.4    setosa\n",
       "28           5.2         3.5          1.5         0.2    setosa\n",
       "29           5.2         3.4          1.4         0.2    setosa\n",
       "30           4.7         3.2          1.6         0.2    setosa\n",
       "...          ...         ...          ...         ...       ...\n",
       "121          6.9         3.2          5.7         2.3 virginica\n",
       "122          5.6         2.8          4.9           2 virginica\n",
       "123          7.7         2.8          6.7           2 virginica\n",
       "124          6.3         2.7          4.9         1.8 virginica\n",
       "125          6.7         3.3          5.7         2.1 virginica\n",
       "126          7.2         3.2            6         1.8 virginica\n",
       "127          6.2         2.8          4.8         1.8 virginica\n",
       "128          6.1           3          4.9         1.8 virginica\n",
       "129          6.4         2.8          5.6         2.1 virginica\n",
       "130          7.2           3          5.8         1.6 virginica\n",
       "131          7.4         2.8          6.1         1.9 virginica\n",
       "132          7.9         3.8          6.4           2 virginica\n",
       "133          6.4         2.8          5.6         2.2 virginica\n",
       "134          6.3         2.8          5.1         1.5 virginica\n",
       "135          6.1         2.6          5.6         1.4 virginica\n",
       "136          7.7           3          6.1         2.3 virginica\n",
       "137          6.3         3.4          5.6         2.4 virginica\n",
       "138          6.4         3.1          5.5         1.8 virginica\n",
       "139            6           3          4.8         1.8 virginica\n",
       "140          6.9         3.1          5.4         2.1 virginica\n",
       "141          6.7         3.1          5.6         2.4 virginica\n",
       "142          6.9         3.1          5.1         2.3 virginica\n",
       "143          5.8         2.7          5.1         1.9 virginica\n",
       "144          6.8         3.2          5.9         2.3 virginica\n",
       "145          6.7         3.3          5.7         2.5 virginica\n",
       "146          6.7           3          5.2         2.3 virginica\n",
       "147          6.3         2.5            5         1.9 virginica\n",
       "148          6.5           3          5.2           2 virginica\n",
       "149          6.2         3.4          5.4         2.3 virginica\n",
       "150          5.9           3          5.1         1.8 virginica"
      ]
     },
     "metadata": {},
     "output_type": "display_data"
    }
   ],
   "source": [
    "iris"
   ]
  },
  {
   "cell_type": "code",
   "execution_count": 3,
   "metadata": {},
   "outputs": [
    {
     "data": {
      "text/html": [
       "<table>\n",
       "<thead><tr><th></th><th scope=col>Species</th><th scope=col>Sepal.Width.Avg</th></tr></thead>\n",
       "<tbody>\n",
       "\t<tr><th scope=row>1</th><td>versicolor</td><td>2.77      </td></tr>\n",
       "\t<tr><th scope=row>2</th><td>virginica</td><td>2.974    </td></tr>\n",
       "\t<tr><th scope=row>3</th><td>setosa</td><td>3.428 </td></tr>\n",
       "</tbody>\n",
       "</table>\n"
      ],
      "text/latex": [
       "\\begin{tabular}{r|ll}\n",
       "  & Species & Sepal.Width.Avg\\\\\n",
       "\\hline\n",
       "\t1 & versicolor & 2.77      \\\\\n",
       "\t2 & virginica & 2.974    \\\\\n",
       "\t3 & setosa & 3.428 \\\\\n",
       "\\end{tabular}\n"
      ],
      "text/plain": [
       "     Species Sepal.Width.Avg\n",
       "1 versicolor           2.770\n",
       "2  virginica           2.974\n",
       "3     setosa           3.428"
      ]
     },
     "metadata": {},
     "output_type": "display_data"
    }
   ],
   "source": [
    "iris %>%\n",
    "group_by(Species) %>%\n",
    "summarise(Sepal.Width.Avg = mean(Sepal.Width)) %>%\n",
    "arrange(Sepal.Width.Avg)"
   ]
  },
  {
   "cell_type": "code",
   "execution_count": 4,
   "metadata": {},
   "outputs": [],
   "source": [
    "library(ggplot2)"
   ]
  },
  {
   "cell_type": "code",
   "execution_count": 5,
   "metadata": {},
   "outputs": [
    {
     "data": {},
     "metadata": {},
     "output_type": "display_data"
    },
    {
     "data": {
      "image/png": "[encoded data removed]",
      "text/plain": [
       "plot without title"
      ]
     },
     "metadata": {},
     "output_type": "display_data"
    }
   ],
   "source": [
    "ggplot(data=iris, aes(x=Sepal.Length, y=Sepal.Width, color=Species)) + geom_point(size=3)"
   ]
  },
  {
   "cell_type": "code",
   "execution_count": null,
   "metadata": {},
   "outputs": [],
   "source": []
  }
 ],
 "metadata": {
  "kernelspec": {
   "display_name": "R",
   "language": "R",
   "name": "ir"
  },
  "language_info": {
   "codemirror_mode": "r",
   "file_extension": ".r",
   "mimetype": "text/x-r-source",
   "name": "R",
   "pygments_lexer": "r",
   "version": "3.4.1"
  }
 },
 "nbformat": 4,
 "nbformat_minor": 1
}
