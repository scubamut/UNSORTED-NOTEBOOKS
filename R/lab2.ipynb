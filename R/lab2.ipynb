{
 "cells": [
  {
   "cell_type": "code",
   "execution_count": 78,
   "metadata": {
    "collapsed": false
   },
   "outputs": [
    {
     "name": "stdout",
     "output_type": "stream",
     "text": [
      "Populating the interactive namespace from numpy and matplotlib\n",
      "The rmagic extension is already loaded. To reload it, use:\n",
      "  %reload_ext rmagic\n"
     ]
    }
   ],
   "source": [
    "%pylab inline\n",
    "%load_ext rpy2.ipython\n",
    "import pandas.rpy.common as com"
   ]
  },
  {
   "cell_type": "code",
   "execution_count": 79,
   "metadata": {
    "collapsed": false
   },
   "outputs": [
    {
     "data": {
      "text/plain": [
       "<StrVector - Python:0x0000000007C83FC8 / R:0x0000000007BE0240>\n",
       "['calc_streak', 'kobe']"
      ]
     },
     "execution_count": 79,
     "metadata": {},
     "output_type": "execute_result"
    }
   ],
   "source": [
    "%R load(url(\"http://www.openintro.org/stat/data/kobe.RData\"))"
   ]
  },
  {
   "cell_type": "code",
   "execution_count": 82,
   "metadata": {
    "collapsed": false
   },
   "outputs": [],
   "source": [
    "kobe = com.load_data(\"kobe\")"
   ]
  },
  {
   "cell_type": "code",
   "execution_count": 83,
   "metadata": {
    "collapsed": false
   },
   "outputs": [
    {
     "data": {
      "text/html": [
       "<div style=\"max-height:1000px;max-width:1500px;overflow:auto;\">\n",
       "<table border=\"1\" class=\"dataframe\">\n",
       "  <thead>\n",
       "    <tr style=\"text-align: right;\">\n",
       "      <th></th>\n",
       "      <th>vs</th>\n",
       "      <th>game</th>\n",
       "      <th>quarter</th>\n",
       "      <th>time</th>\n",
       "      <th>description</th>\n",
       "      <th>basket</th>\n",
       "    </tr>\n",
       "  </thead>\n",
       "  <tbody>\n",
       "    <tr>\n",
       "      <th>1</th>\n",
       "      <td> ORL</td>\n",
       "      <td> 1</td>\n",
       "      <td> 1</td>\n",
       "      <td> 9:47</td>\n",
       "      <td>           Kobe Bryant makes 4-foot two point shot</td>\n",
       "      <td> H</td>\n",
       "    </tr>\n",
       "    <tr>\n",
       "      <th>2</th>\n",
       "      <td> ORL</td>\n",
       "      <td> 1</td>\n",
       "      <td> 1</td>\n",
       "      <td> 9:07</td>\n",
       "      <td>                         Kobe Bryant misses jumper</td>\n",
       "      <td> M</td>\n",
       "    </tr>\n",
       "    <tr>\n",
       "      <th>3</th>\n",
       "      <td> ORL</td>\n",
       "      <td> 1</td>\n",
       "      <td> 1</td>\n",
       "      <td> 8:11</td>\n",
       "      <td>                  Kobe Bryant misses 7-foot jumper</td>\n",
       "      <td> M</td>\n",
       "    </tr>\n",
       "    <tr>\n",
       "      <th>4</th>\n",
       "      <td> ORL</td>\n",
       "      <td> 1</td>\n",
       "      <td> 1</td>\n",
       "      <td> 7:41</td>\n",
       "      <td> Kobe Bryant makes 16-foot jumper (Derek Fisher...</td>\n",
       "      <td> H</td>\n",
       "    </tr>\n",
       "    <tr>\n",
       "      <th>5</th>\n",
       "      <td> ORL</td>\n",
       "      <td> 1</td>\n",
       "      <td> 1</td>\n",
       "      <td> 7:03</td>\n",
       "      <td>                   Kobe Bryant makes driving layup</td>\n",
       "      <td> H</td>\n",
       "    </tr>\n",
       "  </tbody>\n",
       "</table>\n",
       "</div>"
      ],
      "text/plain": [
       "    vs  game quarter  time                                        description  \\\n",
       "1  ORL     1       1  9:47            Kobe Bryant makes 4-foot two point shot   \n",
       "2  ORL     1       1  9:07                          Kobe Bryant misses jumper   \n",
       "3  ORL     1       1  8:11                   Kobe Bryant misses 7-foot jumper   \n",
       "4  ORL     1       1  7:41  Kobe Bryant makes 16-foot jumper (Derek Fisher...   \n",
       "5  ORL     1       1  7:03                    Kobe Bryant makes driving layup   \n",
       "\n",
       "  basket  \n",
       "1      H  \n",
       "2      M  \n",
       "3      M  \n",
       "4      H  \n",
       "5      H  "
      ]
     },
     "execution_count": 83,
     "metadata": {},
     "output_type": "execute_result"
    }
   ],
   "source": [
    "kobe[0:5]"
   ]
  },
  {
   "cell_type": "code",
   "execution_count": 84,
   "metadata": {
    "collapsed": false
   },
   "outputs": [
    {
     "data": {
      "image/png": "[encoded data removed]"
     },
     "metadata": {},
     "output_type": "display_data"
    }
   ],
   "source": [
    "%%R\n",
    "kobe_streak <- calc_streak(kobe$basket)\n",
    "barplot(table(kobe_streak))"
   ]
  },
  {
   "cell_type": "code",
   "execution_count": 106,
   "metadata": {
    "collapsed": false
   },
   "outputs": [
    {
     "data": {
      "text/plain": [
       "<matplotlib.axes._subplots.AxesSubplot at 0xc8c9400>"
      ]
     },
     "execution_count": 106,
     "metadata": {},
     "output_type": "execute_result"
    },
    {
     "data": {
      "image/png": "[encoded data removed]",
      "text/plain": [
       "<matplotlib.figure.Figure at 0xc8d02b0>"
      ]
     },
     "metadata": {},
     "output_type": "display_data"
    }
   ],
   "source": [
    "kobe_streak = pd.Series(com.load_data(\"kobe_streak\"))\n",
    "from collections import Counter\n",
    "pd.Series(Counter(kobe_streak)).plot(kind='bar')"
   ]
  },
  {
   "cell_type": "code",
   "execution_count": 142,
   "metadata": {
    "collapsed": false
   },
   "outputs": [],
   "source": [
    "%%R\n",
    "outcomes <- c(\"H\", \"M\")\n",
    "sample(outcomes, size = 1, replace = TRUE)\n",
    "sim_streaks <- sample(outcomes, size = 100, replace = TRUE, prob = c(0.45, 0.55))\n",
    "sim_streaks\n",
    "t = table(sim_streaks)"
   ]
  },
  {
   "cell_type": "code",
   "execution_count": 143,
   "metadata": {
    "collapsed": false
   },
   "outputs": [
    {
     "data": {
      "text/html": [
       "<div style=\"max-height:1000px;max-width:1500px;overflow:auto;\">\n",
       "<table border=\"1\" class=\"dataframe\">\n",
       "  <thead>\n",
       "    <tr style=\"text-align: right;\">\n",
       "      <th></th>\n",
       "      <th>sim_streaks</th>\n",
       "      <th>value</th>\n",
       "    </tr>\n",
       "  </thead>\n",
       "  <tbody>\n",
       "    <tr>\n",
       "      <th>0</th>\n",
       "      <td> H</td>\n",
       "      <td> 46</td>\n",
       "    </tr>\n",
       "    <tr>\n",
       "      <th>1</th>\n",
       "      <td> M</td>\n",
       "      <td> 54</td>\n",
       "    </tr>\n",
       "  </tbody>\n",
       "</table>\n",
       "</div>"
      ],
      "text/plain": [
       "  sim_streaks value\n",
       "0           H    46\n",
       "1           M    54"
      ]
     },
     "execution_count": 143,
     "metadata": {},
     "output_type": "execute_result"
    }
   ],
   "source": [
    "com.load_data(\"t\")"
   ]
  },
  {
   "cell_type": "code",
   "execution_count": 158,
   "metadata": {
    "collapsed": false
   },
   "outputs": [
    {
     "data": {
      "text/plain": [
       "(48, 74)"
      ]
     },
     "execution_count": 158,
     "metadata": {},
     "output_type": "execute_result"
    }
   ],
   "source": [
    "result = np.random.choice(['H', 'M'], size=122, replace=True, p=[0.45,0.55])\n",
    "len(result[result=='H']), len(result[result=='M'])"
   ]
  },
  {
   "cell_type": "code",
   "execution_count": 159,
   "metadata": {
    "collapsed": false
   },
   "outputs": [
    {
     "data": {
      "text/plain": [
       "48"
      ]
     },
     "execution_count": 159,
     "metadata": {},
     "output_type": "execute_result"
    }
   ],
   "source": [
    "len(result[result=='H'])"
   ]
  },
  {
   "cell_type": "code",
   "execution_count": 160,
   "metadata": {
    "collapsed": false
   },
   "outputs": [],
   "source": [
    "%Rpush result"
   ]
  },
  {
   "cell_type": "code",
   "execution_count": 161,
   "metadata": {
    "collapsed": false
   },
   "outputs": [
    {
     "data": {
      "image/png": "[encoded data removed]"
     },
     "metadata": {},
     "output_type": "display_data"
    }
   ],
   "source": [
    "%%R\n",
    "result_streak <- calc_streak(result)\n",
    "barplot(table(result_streak))"
   ]
  },
  {
   "cell_type": "code",
   "execution_count": null,
   "metadata": {
    "collapsed": true
   },
   "outputs": [],
   "source": [
    "# would be interesting to use this to analyze up and down runs of returns or price_up/price_down"
   ]
  },
  {
   "cell_type": "markdown",
   "metadata": {},
   "source": [
    "%R load(url(\"http://www.openintro.org/stat/data/ames.RData\"))"
   ]
  },
  {
   "cell_type": "code",
   "execution_count": 164,
   "metadata": {
    "collapsed": false
   },
   "outputs": [],
   "source": [
    "ames = com.load_data(\"ames\")"
   ]
  },
  {
   "cell_type": "code",
   "execution_count": 165,
   "metadata": {
    "collapsed": false
   },
   "outputs": [
    {
     "data": {
      "text/html": [
       "<div style=\"max-height:1000px;max-width:1500px;overflow:auto;\">\n",
       "<table border=\"1\" class=\"dataframe\">\n",
       "  <thead>\n",
       "    <tr style=\"text-align: right;\">\n",
       "      <th></th>\n",
       "      <th>Order</th>\n",
       "      <th>PID</th>\n",
       "      <th>MS.SubClass</th>\n",
       "      <th>Lot.Frontage</th>\n",
       "      <th>Lot.Area</th>\n",
       "      <th>Overall.Qual</th>\n",
       "      <th>Overall.Cond</th>\n",
       "      <th>Year.Built</th>\n",
       "      <th>Year.Remod.Add</th>\n",
       "      <th>Mas.Vnr.Area</th>\n",
       "      <th>...</th>\n",
       "      <th>Wood.Deck.SF</th>\n",
       "      <th>Open.Porch.SF</th>\n",
       "      <th>Enclosed.Porch</th>\n",
       "      <th>X3Ssn.Porch</th>\n",
       "      <th>Screen.Porch</th>\n",
       "      <th>Pool.Area</th>\n",
       "      <th>Misc.Val</th>\n",
       "      <th>Mo.Sold</th>\n",
       "      <th>Yr.Sold</th>\n",
       "      <th>SalePrice</th>\n",
       "    </tr>\n",
       "  </thead>\n",
       "  <tbody>\n",
       "    <tr>\n",
       "      <th>count</th>\n",
       "      <td> 2930.00000</td>\n",
       "      <td> 2.930000e+03</td>\n",
       "      <td> 2930.000000</td>\n",
       "      <td> 2440.000000</td>\n",
       "      <td>   2930.000000</td>\n",
       "      <td> 2930.000000</td>\n",
       "      <td> 2930.000000</td>\n",
       "      <td> 2930.000000</td>\n",
       "      <td> 2930.000000</td>\n",
       "      <td> 2907.000000</td>\n",
       "      <td>...</td>\n",
       "      <td> 2930.000000</td>\n",
       "      <td> 2930.000000</td>\n",
       "      <td> 2930.000000</td>\n",
       "      <td> 2930.000000</td>\n",
       "      <td> 2930.000000</td>\n",
       "      <td> 2930.000000</td>\n",
       "      <td>  2930.000000</td>\n",
       "      <td> 2930.000000</td>\n",
       "      <td> 2930.000000</td>\n",
       "      <td>   2930.000000</td>\n",
       "    </tr>\n",
       "    <tr>\n",
       "      <th>mean</th>\n",
       "      <td> 1465.50000</td>\n",
       "      <td> 7.144645e+08</td>\n",
       "      <td>   57.387372</td>\n",
       "      <td>   69.224590</td>\n",
       "      <td>  10147.921843</td>\n",
       "      <td>    6.094881</td>\n",
       "      <td>    5.563140</td>\n",
       "      <td> 1971.356314</td>\n",
       "      <td> 1984.266553</td>\n",
       "      <td>  101.896801</td>\n",
       "      <td>...</td>\n",
       "      <td>   93.751877</td>\n",
       "      <td>   47.533447</td>\n",
       "      <td>   23.011604</td>\n",
       "      <td>    2.592491</td>\n",
       "      <td>   16.002048</td>\n",
       "      <td>    2.243345</td>\n",
       "      <td>    50.635154</td>\n",
       "      <td>    6.216041</td>\n",
       "      <td> 2007.790444</td>\n",
       "      <td> 180796.060068</td>\n",
       "    </tr>\n",
       "    <tr>\n",
       "      <th>std</th>\n",
       "      <td>  845.96247</td>\n",
       "      <td> 1.887308e+08</td>\n",
       "      <td>   42.638025</td>\n",
       "      <td>   23.365335</td>\n",
       "      <td>   7880.017759</td>\n",
       "      <td>    1.411026</td>\n",
       "      <td>    1.111537</td>\n",
       "      <td>   30.245361</td>\n",
       "      <td>   20.860286</td>\n",
       "      <td>  179.112611</td>\n",
       "      <td>...</td>\n",
       "      <td>  126.361562</td>\n",
       "      <td>   67.483400</td>\n",
       "      <td>   64.139059</td>\n",
       "      <td>   25.141331</td>\n",
       "      <td>   56.087370</td>\n",
       "      <td>   35.597181</td>\n",
       "      <td>   566.344288</td>\n",
       "      <td>    2.714492</td>\n",
       "      <td>    1.316613</td>\n",
       "      <td>  79886.692357</td>\n",
       "    </tr>\n",
       "    <tr>\n",
       "      <th>min</th>\n",
       "      <td>    1.00000</td>\n",
       "      <td> 5.263011e+08</td>\n",
       "      <td>   20.000000</td>\n",
       "      <td>   21.000000</td>\n",
       "      <td>   1300.000000</td>\n",
       "      <td>    1.000000</td>\n",
       "      <td>    1.000000</td>\n",
       "      <td> 1872.000000</td>\n",
       "      <td> 1950.000000</td>\n",
       "      <td>    0.000000</td>\n",
       "      <td>...</td>\n",
       "      <td>    0.000000</td>\n",
       "      <td>    0.000000</td>\n",
       "      <td>    0.000000</td>\n",
       "      <td>    0.000000</td>\n",
       "      <td>    0.000000</td>\n",
       "      <td>    0.000000</td>\n",
       "      <td>     0.000000</td>\n",
       "      <td>    1.000000</td>\n",
       "      <td> 2006.000000</td>\n",
       "      <td>  12789.000000</td>\n",
       "    </tr>\n",
       "    <tr>\n",
       "      <th>25%</th>\n",
       "      <td>  733.25000</td>\n",
       "      <td> 5.284770e+08</td>\n",
       "      <td>   20.000000</td>\n",
       "      <td>   58.000000</td>\n",
       "      <td>   7440.250000</td>\n",
       "      <td>    5.000000</td>\n",
       "      <td>    5.000000</td>\n",
       "      <td> 1954.000000</td>\n",
       "      <td> 1965.000000</td>\n",
       "      <td>    0.000000</td>\n",
       "      <td>...</td>\n",
       "      <td>    0.000000</td>\n",
       "      <td>    0.000000</td>\n",
       "      <td>    0.000000</td>\n",
       "      <td>    0.000000</td>\n",
       "      <td>    0.000000</td>\n",
       "      <td>    0.000000</td>\n",
       "      <td>     0.000000</td>\n",
       "      <td>    4.000000</td>\n",
       "      <td> 2007.000000</td>\n",
       "      <td> 129500.000000</td>\n",
       "    </tr>\n",
       "    <tr>\n",
       "      <th>50%</th>\n",
       "      <td> 1465.50000</td>\n",
       "      <td> 5.354536e+08</td>\n",
       "      <td>   50.000000</td>\n",
       "      <td>   68.000000</td>\n",
       "      <td>   9436.500000</td>\n",
       "      <td>    6.000000</td>\n",
       "      <td>    5.000000</td>\n",
       "      <td> 1973.000000</td>\n",
       "      <td> 1993.000000</td>\n",
       "      <td>    0.000000</td>\n",
       "      <td>...</td>\n",
       "      <td>    0.000000</td>\n",
       "      <td>   27.000000</td>\n",
       "      <td>    0.000000</td>\n",
       "      <td>    0.000000</td>\n",
       "      <td>    0.000000</td>\n",
       "      <td>    0.000000</td>\n",
       "      <td>     0.000000</td>\n",
       "      <td>    6.000000</td>\n",
       "      <td> 2008.000000</td>\n",
       "      <td> 160000.000000</td>\n",
       "    </tr>\n",
       "    <tr>\n",
       "      <th>75%</th>\n",
       "      <td> 2197.75000</td>\n",
       "      <td> 9.071811e+08</td>\n",
       "      <td>   70.000000</td>\n",
       "      <td>   80.000000</td>\n",
       "      <td>  11555.250000</td>\n",
       "      <td>    7.000000</td>\n",
       "      <td>    6.000000</td>\n",
       "      <td> 2001.000000</td>\n",
       "      <td> 2004.000000</td>\n",
       "      <td>  164.000000</td>\n",
       "      <td>...</td>\n",
       "      <td>  168.000000</td>\n",
       "      <td>   70.000000</td>\n",
       "      <td>    0.000000</td>\n",
       "      <td>    0.000000</td>\n",
       "      <td>    0.000000</td>\n",
       "      <td>    0.000000</td>\n",
       "      <td>     0.000000</td>\n",
       "      <td>    8.000000</td>\n",
       "      <td> 2009.000000</td>\n",
       "      <td> 213500.000000</td>\n",
       "    </tr>\n",
       "    <tr>\n",
       "      <th>max</th>\n",
       "      <td> 2930.00000</td>\n",
       "      <td> 1.007100e+09</td>\n",
       "      <td>  190.000000</td>\n",
       "      <td>  313.000000</td>\n",
       "      <td> 215245.000000</td>\n",
       "      <td>   10.000000</td>\n",
       "      <td>    9.000000</td>\n",
       "      <td> 2010.000000</td>\n",
       "      <td> 2010.000000</td>\n",
       "      <td> 1600.000000</td>\n",
       "      <td>...</td>\n",
       "      <td> 1424.000000</td>\n",
       "      <td>  742.000000</td>\n",
       "      <td> 1012.000000</td>\n",
       "      <td>  508.000000</td>\n",
       "      <td>  576.000000</td>\n",
       "      <td>  800.000000</td>\n",
       "      <td> 17000.000000</td>\n",
       "      <td>   12.000000</td>\n",
       "      <td> 2010.000000</td>\n",
       "      <td> 755000.000000</td>\n",
       "    </tr>\n",
       "  </tbody>\n",
       "</table>\n",
       "<p>8 rows × 39 columns</p>\n",
       "</div>"
      ],
      "text/plain": [
       "            Order           PID  MS.SubClass  Lot.Frontage       Lot.Area  \\\n",
       "count  2930.00000  2.930000e+03  2930.000000   2440.000000    2930.000000   \n",
       "mean   1465.50000  7.144645e+08    57.387372     69.224590   10147.921843   \n",
       "std     845.96247  1.887308e+08    42.638025     23.365335    7880.017759   \n",
       "min       1.00000  5.263011e+08    20.000000     21.000000    1300.000000   \n",
       "25%     733.25000  5.284770e+08    20.000000     58.000000    7440.250000   \n",
       "50%    1465.50000  5.354536e+08    50.000000     68.000000    9436.500000   \n",
       "75%    2197.75000  9.071811e+08    70.000000     80.000000   11555.250000   \n",
       "max    2930.00000  1.007100e+09   190.000000    313.000000  215245.000000   \n",
       "\n",
       "       Overall.Qual  Overall.Cond   Year.Built  Year.Remod.Add  Mas.Vnr.Area  \\\n",
       "count   2930.000000   2930.000000  2930.000000     2930.000000   2907.000000   \n",
       "mean       6.094881      5.563140  1971.356314     1984.266553    101.896801   \n",
       "std        1.411026      1.111537    30.245361       20.860286    179.112611   \n",
       "min        1.000000      1.000000  1872.000000     1950.000000      0.000000   \n",
       "25%        5.000000      5.000000  1954.000000     1965.000000      0.000000   \n",
       "50%        6.000000      5.000000  1973.000000     1993.000000      0.000000   \n",
       "75%        7.000000      6.000000  2001.000000     2004.000000    164.000000   \n",
       "max       10.000000      9.000000  2010.000000     2010.000000   1600.000000   \n",
       "\n",
       "           ...       Wood.Deck.SF  Open.Porch.SF  Enclosed.Porch  X3Ssn.Porch  \\\n",
       "count      ...        2930.000000    2930.000000     2930.000000  2930.000000   \n",
       "mean       ...          93.751877      47.533447       23.011604     2.592491   \n",
       "std        ...         126.361562      67.483400       64.139059    25.141331   \n",
       "min        ...           0.000000       0.000000        0.000000     0.000000   \n",
       "25%        ...           0.000000       0.000000        0.000000     0.000000   \n",
       "50%        ...           0.000000      27.000000        0.000000     0.000000   \n",
       "75%        ...         168.000000      70.000000        0.000000     0.000000   \n",
       "max        ...        1424.000000     742.000000     1012.000000   508.000000   \n",
       "\n",
       "       Screen.Porch    Pool.Area      Misc.Val      Mo.Sold      Yr.Sold  \\\n",
       "count   2930.000000  2930.000000   2930.000000  2930.000000  2930.000000   \n",
       "mean      16.002048     2.243345     50.635154     6.216041  2007.790444   \n",
       "std       56.087370    35.597181    566.344288     2.714492     1.316613   \n",
       "min        0.000000     0.000000      0.000000     1.000000  2006.000000   \n",
       "25%        0.000000     0.000000      0.000000     4.000000  2007.000000   \n",
       "50%        0.000000     0.000000      0.000000     6.000000  2008.000000   \n",
       "75%        0.000000     0.000000      0.000000     8.000000  2009.000000   \n",
       "max      576.000000   800.000000  17000.000000    12.000000  2010.000000   \n",
       "\n",
       "           SalePrice  \n",
       "count    2930.000000  \n",
       "mean   180796.060068  \n",
       "std     79886.692357  \n",
       "min     12789.000000  \n",
       "25%    129500.000000  \n",
       "50%    160000.000000  \n",
       "75%    213500.000000  \n",
       "max    755000.000000  \n",
       "\n",
       "[8 rows x 39 columns]"
      ]
     },
     "execution_count": 165,
     "metadata": {},
     "output_type": "execute_result"
    }
   ],
   "source": [
    "ames.describe()"
   ]
  },
  {
   "cell_type": "code",
   "execution_count": 176,
   "metadata": {
    "collapsed": false
   },
   "outputs": [
    {
     "data": {
      "text/plain": [
       "count    2930.000000\n",
       "mean     1499.690444\n",
       "std       505.508887\n",
       "min       334.000000\n",
       "25%      1126.000000\n",
       "50%      1442.000000\n",
       "75%      1742.750000\n",
       "max      5642.000000\n",
       "dtype: float64"
      ]
     },
     "execution_count": 176,
     "metadata": {},
     "output_type": "execute_result"
    }
   ],
   "source": [
    "area = ames['Gr.Liv.Area']\n",
    "area.describe()"
   ]
  },
  {
   "cell_type": "code",
   "execution_count": 189,
   "metadata": {
    "collapsed": false
   },
   "outputs": [
    {
     "data": {
      "text/plain": [
       "<matplotlib.axes._subplots.AxesSubplot at 0xfc9c9b0>"
      ]
     },
     "execution_count": 189,
     "metadata": {},
     "output_type": "execute_result"
    },
    {
     "data": {
      "image/png": "[encoded data removed]",
      "text/plain": [
       "<matplotlib.figure.Figure at 0xfd09da0>"
      ]
     },
     "metadata": {},
     "output_type": "display_data"
    }
   ],
   "source": [
    "area.hist(bins=10)"
   ]
  },
  {
   "cell_type": "code",
   "execution_count": 178,
   "metadata": {
    "collapsed": false
   },
   "outputs": [
    {
     "data": {
      "text/plain": [
       "0.5010238907849829"
      ]
     },
     "execution_count": 178,
     "metadata": {},
     "output_type": "execute_result"
    }
   ],
   "source": [
    "len(area[area<=area.median()]) / len(area)"
   ]
  },
  {
   "cell_type": "code",
   "execution_count": 179,
   "metadata": {
    "collapsed": false
   },
   "outputs": [
    {
     "data": {
      "text/plain": [
       "0.5539249146757679"
      ]
     },
     "execution_count": 179,
     "metadata": {},
     "output_type": "execute_result"
    }
   ],
   "source": [
    "len(area[area<=1500]) / len(area)"
   ]
  },
  {
   "cell_type": "code",
   "execution_count": 186,
   "metadata": {
    "collapsed": false
   },
   "outputs": [
    {
     "data": {
      "text/plain": [
       "count     100.000000\n",
       "mean     1489.320000\n",
       "std       882.315856\n",
       "min         1.000000\n",
       "25%       769.250000\n",
       "50%      1593.500000\n",
       "75%      2226.500000\n",
       "max      2905.000000\n",
       "dtype: float64"
      ]
     },
     "execution_count": 186,
     "metadata": {},
     "output_type": "execute_result"
    }
   ],
   "source": [
    "pd.Series(np.random.choice(len(area), 100)).describe()"
   ]
  },
  {
   "cell_type": "code",
   "execution_count": 187,
   "metadata": {
    "collapsed": false
   },
   "outputs": [
    {
     "data": {
      "image/png": "[encoded data removed]"
     },
     "metadata": {},
     "output_type": "display_data"
    }
   ],
   "source": [
    "%%R\n",
    "area <- ames$Gr.Liv.Area\n",
    "price <- ames$SalePrice\n",
    "summary(area)\n",
    "hist(area)"
   ]
  },
  {
   "cell_type": "code",
   "execution_count": 190,
   "metadata": {
    "collapsed": false
   },
   "outputs": [
    {
     "data": {
      "text/plain": [
       "<FloatVector - Python:0x000000000CBFD748 / R:0x0000000007B3A5E8>\n",
       "[1499.690444]"
      ]
     },
     "execution_count": 190,
     "metadata": {},
     "output_type": "execute_result"
    }
   ],
   "source": [
    "%R mean(area)"
   ]
  },
  {
   "cell_type": "code",
   "execution_count": 191,
   "metadata": {
    "collapsed": false
   },
   "outputs": [
    {
     "data": {
      "text/plain": [
       "<IntVector - Python:0x000000000FD87A48 / R:0x0000000009041CD0>\n",
       "[    1217,      864,     1052, ...,     1582,     2377,     1239]"
      ]
     },
     "execution_count": 191,
     "metadata": {},
     "output_type": "execute_result"
    }
   ],
   "source": [
    "%R samp0 = sample(area, 50)"
   ]
  },
  {
   "cell_type": "code",
   "execution_count": 192,
   "metadata": {
    "collapsed": false
   },
   "outputs": [
    {
     "data": {
      "text/plain": [
       "<FloatVector - Python:0x000000000FD30648 / R:0x0000000007B16478>\n",
       "[1426.180000]"
      ]
     },
     "execution_count": 192,
     "metadata": {},
     "output_type": "execute_result"
    }
   ],
   "source": [
    "%R mean(samp0)"
   ]
  },
  {
   "cell_type": "code",
   "execution_count": 195,
   "metadata": {
    "collapsed": false
   },
   "outputs": [
    {
     "data": {
      "text/plain": [
       "<IntVector - Python:0x000000000FD95B88 / R:0x000000000799CF70>\n",
       "[    1626,     1654,     2112, ...,     1528,     1456,     2495]"
      ]
     },
     "execution_count": 195,
     "metadata": {},
     "output_type": "execute_result"
    }
   ],
   "source": [
    "%R samp1 <- sample(area, 50)\n"
   ]
  },
  {
   "cell_type": "code",
   "execution_count": 196,
   "metadata": {
    "collapsed": false
   },
   "outputs": [
    {
     "data": {
      "text/plain": [
       "<FloatVector - Python:0x000000000FD28EC8 / R:0x0000000007A9F2D8>\n",
       "[1546.220000]"
      ]
     },
     "execution_count": 196,
     "metadata": {},
     "output_type": "execute_result"
    }
   ],
   "source": [
    "%R mean(samp1)"
   ]
  },
  {
   "cell_type": "code",
   "execution_count": 197,
   "metadata": {
    "collapsed": false
   },
   "outputs": [
    {
     "data": {
      "image/png": "[encoded data removed]"
     },
     "metadata": {},
     "output_type": "display_data"
    }
   ],
   "source": [
    "%%R\n",
    "sample_means50 <- rep(NA, 5000)\n",
    "\n",
    "for(i in 1:5000){\n",
    "   samp <- sample(area, 50)\n",
    "   sample_means50[i] <- mean(samp)\n",
    "   }\n",
    "\n",
    "hist(sample_means50)"
   ]
  },
  {
   "cell_type": "code",
   "execution_count": 198,
   "metadata": {
    "collapsed": false
   },
   "outputs": [
    {
     "data": {
      "image/png": "[encoded data removed]"
     },
     "metadata": {},
     "output_type": "display_data"
    },
    {
     "data": {
      "text/plain": [
       "<ListVector - Python:0x000000000FBA2A88 / R:0x000000000B1B0090>\n",
       "[Float..., IntVe..., Float..., Float..., StrVe..., Vector]\n",
       "  breaks: <class 'rpy2.robjects.vectors.FloatVector'>\n",
       "  <FloatVector - Python:0x000000000FBE7288 / R:0x000000000AA5DDB0>\n",
       "[1220.000000, 1240.000000, 1260.000000, ..., 1740.000000, 1760.000000, 1780.000000]\n",
       "  counts: <class 'rpy2.robjects.vectors.IntVector'>\n",
       "  <IntVector - Python:0x000000000FC8D3C8 / R:0x000000000ADEA968>\n",
       "[       1,        0,        1, ...,        6,        5,        1]\n",
       "  density: <class 'rpy2.robjects.vectors.FloatVector'>\n",
       "  <FloatVector - Python:0x000000000FD9B9C8 / R:0x00000000089632D8>\n",
       "[0.000010, 0.000000, 0.000010, ..., 0.000060, 0.000050, 0.000010]\n",
       "  mids: <class 'rpy2.robjects.vectors.FloatVector'>\n",
       "  <FloatVector - Python:0x000000000FD95C88 / R:0x00000000089634F8>\n",
       "[1230.000000, 1250.000000, 1270.000000, ..., 1730.000000, 1750.000000, 1770.000000]\n",
       "  xname: <class 'rpy2.robjects.vectors.StrVector'>\n",
       "  <StrVector - Python:0x000000000FD76248 / R:0x00000000079E9F48>\n",
       "['sample_means50']\n",
       "  equidist: <class 'rpy2.robjects.vectors.Vector'>\n",
       "  <Vector - Python:0x000000000FD81948 / R:0x00000000046F0F20>\n",
       "[       1]"
      ]
     },
     "execution_count": 198,
     "metadata": {},
     "output_type": "execute_result"
    }
   ],
   "source": [
    "%R hist(sample_means50, breaks = 25)"
   ]
  },
  {
   "cell_type": "code",
   "execution_count": 199,
   "metadata": {
    "collapsed": false
   },
   "outputs": [
    {
     "data": {
      "text/plain": [
       "<FloatVector - Python:0x000000000D00CF08 / R:0x00000000079AAD88>\n",
       "[1499.291744]"
      ]
     },
     "execution_count": 199,
     "metadata": {},
     "output_type": "execute_result"
    }
   ],
   "source": [
    "%R mean(sample_means50)"
   ]
  },
  {
   "cell_type": "code",
   "execution_count": 218,
   "metadata": {
    "collapsed": true
   },
   "outputs": [],
   "source": [
    "def sample_means(data, size, no_of_samples):\n",
    "    sample_means = []\n",
    "    for i in range(no_of_samples):\n",
    "        sample_means.append(pd.Series(np.random.choice(len(data), size)).mean())\n",
    "    return sample_means, np.average(sample_means)"
   ]
  },
  {
   "cell_type": "code",
   "execution_count": 211,
   "metadata": {
    "collapsed": false
   },
   "outputs": [
    {
     "name": "stdout",
     "output_type": "stream",
     "text": [
      "1465.97212 1466.568096\n"
     ]
    }
   ],
   "source": [
    "print (sample_means(area, 10, 5000), sample_means(area, 100, 5000))"
   ]
  },
  {
   "cell_type": "code",
   "execution_count": 204,
   "metadata": {
    "collapsed": false
   },
   "outputs": [
    {
     "data": {
      "image/png": "[encoded data removed]"
     },
     "metadata": {},
     "output_type": "display_data"
    },
    {
     "data": {
      "text/plain": [
       "<ListVector - Python:0x000000000FDD2988 / R:0x000000000B1B2580>\n",
       "[Float..., IntVe..., Float..., Float..., StrVe..., Vector]\n",
       "  breaks: <class 'rpy2.robjects.vectors.FloatVector'>\n",
       "  <FloatVector - Python:0x000000000FDD3348 / R:0x000000000B1BBF00>\n",
       "[1200.000000, 1250.000000, 1300.000000, ..., 1700.000000, 1750.000000, 1800.000000]\n",
       "  counts: <class 'rpy2.robjects.vectors.IntVector'>\n",
       "  <IntVector - Python:0x000000000FDD3788 / R:0x000000000B1B2108>\n",
       "[       1,        2,       47, ...,       87,       17,        4]\n",
       "  density: <class 'rpy2.robjects.vectors.FloatVector'>\n",
       "  <FloatVector - Python:0x000000000FDD3C88 / R:0x000000000B1B0EB8>\n",
       "[0.000004, 0.000008, 0.000188, ..., 0.000348, 0.000068, 0.000016]\n",
       "  mids: <class 'rpy2.robjects.vectors.FloatVector'>\n",
       "  <FloatVector - Python:0x000000000FDD41C8 / R:0x000000000B1B1008>\n",
       "[1225.000000, 1275.000000, 1325.000000, ..., 1675.000000, 1725.000000, 1775.000000]\n",
       "  xname: <class 'rpy2.robjects.vectors.StrVector'>\n",
       "  <StrVector - Python:0x000000000FDD3FC8 / R:0x0000000007BA8B98>\n",
       "['sample_means50']\n",
       "  equidist: <class 'rpy2.robjects.vectors.Vector'>\n",
       "  <Vector - Python:0x000000000FDD3E48 / R:0x00000000046F0F20>\n",
       "[       1]"
      ]
     },
     "execution_count": 204,
     "metadata": {},
     "output_type": "execute_result"
    }
   ],
   "source": [
    "%R hist(sample_means50)"
   ]
  },
  {
   "cell_type": "code",
   "execution_count": 212,
   "metadata": {
    "collapsed": false
   },
   "outputs": [
    {
     "data": {
      "image/png": "[encoded data removed]"
     },
     "metadata": {},
     "output_type": "display_data"
    }
   ],
   "source": [
    "%%R\n",
    "sample_means10 <- rep(NA, 5000)\n",
    "sample_means100 <- rep(NA, 5000)\n",
    "\n",
    "for(i in 1:5000){\n",
    "  samp <- sample(area, 10)\n",
    "  sample_means10[i] <- mean(samp)\n",
    "  samp <- sample(area, 100)\n",
    "  sample_means100[i] <- mean(samp)\n",
    "}\n",
    "\n",
    "par(mfrow = c(3, 1))\n",
    "\n",
    "xlimits = range(sample_means10)\n",
    "\n",
    "hist(sample_means10, breaks = 20, xlim = xlimits)\n",
    "hist(sample_means50, breaks = 20, xlim = xlimits)\n",
    "hist(sample_means100, breaks = 20, xlim = xlimits)"
   ]
  },
  {
   "cell_type": "code",
   "execution_count": 227,
   "metadata": {
    "collapsed": false
   },
   "outputs": [
    {
     "name": "stdout",
     "output_type": "stream",
     "text": [
      "1465.48988\n",
      "1465.461504\n",
      "1466.267804\n"
     ]
    },
    {
     "data": {
      "image/png": "[encoded data removed]",
      "text/plain": [
       "<matplotlib.figure.Figure at 0x1001a2b0>"
      ]
     },
     "metadata": {},
     "output_type": "display_data"
    }
   ],
   "source": [
    "for n in [10,50,100]:\n",
    "    sample_means_hat, mean_area_hat = sample_means(area, n, 5000)\n",
    "    pd.Series(sample_means_hat).hist(bins=25)\n",
    "    print (mean_area_hat)"
   ]
  },
  {
   "cell_type": "code",
   "execution_count": null,
   "metadata": {
    "collapsed": true
   },
   "outputs": [],
   "source": []
  }
 ],
 "metadata": {
  "kernelspec": {
   "display_name": "Python 3",
   "language": "python",
   "name": "python3"
  },
  "language_info": {
   "codemirror_mode": {
    "name": "ipython",
    "version": 3
   },
   "file_extension": ".py",
   "mimetype": "text/x-python",
   "name": "python",
   "nbconvert_exporter": "python",
   "pygments_lexer": "ipython3",
   "version": "3.4.3"
  }
 },
 "nbformat": 4,
 "nbformat_minor": 0
}
