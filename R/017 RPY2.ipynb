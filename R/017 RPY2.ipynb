{
 "cells": [
  {
   "cell_type": "markdown",
   "metadata": {},
   "source": [
    "# Introduction to rpy2"
   ]
  },
  {
   "cell_type": "code",
   "execution_count": 21,
   "metadata": {
    "collapsed": false
   },
   "outputs": [],
   "source": [
    "# first need to change dir to get rpy2 to load properly\n",
    "import os, sys\n",
    "os.chdir(os.environ['R_HOME'] + '\\\\bin\\\\x64')\n",
    "sys.path.append(os.environ['R_HOME'] + '\\\\bin\\\\x64')"
   ]
  },
  {
   "cell_type": "code",
   "execution_count": 1,
   "metadata": {
    "collapsed": false
   },
   "outputs": [
    {
     "name": "stdout",
     "output_type": "stream",
     "text": [
      "Populating the interactive namespace from numpy and matplotlib\n"
     ]
    }
   ],
   "source": [
    "# don't forget!!\n",
    "%pylab inline\n",
    "%load_ext rpy2.ipython"
   ]
  },
  {
   "cell_type": "markdown",
   "metadata": {},
   "source": [
    "## Getting started"
   ]
  },
  {
   "cell_type": "code",
   "execution_count": 23,
   "metadata": {
    "collapsed": false
   },
   "outputs": [],
   "source": [
    "#import rpy2.robjects as robjects\n",
    "from rpy2.robjects import r"
   ]
  },
  {
   "cell_type": "markdown",
   "metadata": {},
   "source": [
    "## The r instance"
   ]
  },
  {
   "cell_type": "raw",
   "metadata": {},
   "source": [
    "The object r in rpy2.robjects represents the running embedded R process.\n",
    "\n",
    "If familiar with R and the R console, r is a little like a communication channel from Python to R."
   ]
  },
  {
   "cell_type": "code",
   "execution_count": 24,
   "metadata": {
    "collapsed": false
   },
   "outputs": [
    {
     "data": {
      "text/plain": [
       "rpy2.rinterface.NULL"
      ]
     },
     "execution_count": 24,
     "metadata": {},
     "output_type": "execute_result"
    }
   ],
   "source": [
    "r.X11()"
   ]
  },
  {
   "cell_type": "code",
   "execution_count": 25,
   "metadata": {
    "collapsed": false
   },
   "outputs": [
    {
     "data": {
      "text/plain": [
       "<IntVector - Python:0x00000000082E9308 / R:0x0000000007A86028>\n",
       "[       3]"
      ]
     },
     "execution_count": 25,
     "metadata": {},
     "output_type": "execute_result"
    }
   ],
   "source": [
    "r.layout(r.matrix(robjects.IntVector([1,2,3,2]), nrow=2, ncol=2))"
   ]
  },
  {
   "cell_type": "code",
   "execution_count": 26,
   "metadata": {
    "collapsed": false
   },
   "outputs": [
    {
     "data": {
      "text/plain": [
       "rpy2.rinterface.NULL"
      ]
     },
     "execution_count": 26,
     "metadata": {},
     "output_type": "execute_result"
    }
   ],
   "source": [
    "r.plot(r.runif(10), y, xlab=\"runif\", ylab=\"foo/bar\", col=\"red\")"
   ]
  },
  {
   "cell_type": "code",
   "execution_count": 27,
   "metadata": {
    "collapsed": false
   },
   "outputs": [
    {
     "data": {
      "text/plain": [
       "rpy2.rinterface.NULL"
      ]
     },
     "execution_count": 27,
     "metadata": {},
     "output_type": "execute_result"
    }
   ],
   "source": [
    "import rpy2.robjects as robjects\n",
    "\n",
    "r = robjects.r\n",
    "\n",
    "x = robjects.IntVector(range(10))\n",
    "y = r.rnorm(10)\n",
    "\n",
    "r.X11()\n",
    "\n",
    "r.layout(r.matrix(robjects.IntVector([1,2,3,2]), nrow=2, ncol=2))\n",
    "r.plot(r.runif(10), y, xlab=\"runif\", ylab=\"foo/bar\", col=\"red\")"
   ]
  },
  {
   "cell_type": "code",
   "execution_count": 28,
   "metadata": {
    "collapsed": false
   },
   "outputs": [
    {
     "name": "stderr",
     "output_type": "stream",
     "text": [
      "ERROR: Cell magic `%%R` not found.\n"
     ]
    }
   ],
   "source": [
    "%%R\n",
    "qts <- function(prices, nShort = 20, nLong = 105, nMonthSMA = 3, nDaySMA = 63, wRankShort=1, wRankLong=1.01, \n",
    "                movAvgType = c(\"monthly\", \"daily\"), cashAsset=\"VUSTX\", returnNames = FALSE) {\n",
    "  cashCol <- grep(cashAsset, colnames(prices))\n",
    "   \n",
    "  #start our data off on the security with the least data (VGSIX in this case)\n",
    "  prices <- prices[!is.na(prices[,7]),] \n",
    "   \n",
    "  #cash is not a formal asset in our ranking\n",
    "  cashPrices <- prices[, cashCol]\n",
    "  prices <- prices[, -cashCol]\n",
    "   \n",
    "  #compute momentums\n",
    "  rocShort <- prices/lag(prices, nShort) - 1\n",
    "  rocLong <- prices/lag(prices, nLong) - 1\n",
    "   \n",
    "  #take the endpoints of quarter start/end\n",
    "  quarterlyEps <- endpoints(prices, on=\"quarters\")\n",
    "  monthlyEps <- endpoints(prices, on = \"months\")\n",
    "   \n",
    "  #take the prices at quarterly endpoints\n",
    "  quarterlyPrices <- prices[quarterlyEps,]\n",
    "   \n",
    "  #short momentum at quarterly endpoints (20 day)\n",
    "  rocShortQtrs <- rocShort[quarterlyEps,]\n",
    "   \n",
    "  #long momentum at quarterly endpoints (105 day)\n",
    "  rocLongQtrs <- rocLong[quarterlyEps,]\n",
    "   \n",
    "  #rank short momentum, best highest rank\n",
    "  rocSrank <- t(apply(rocShortQtrs, 1, rank))\n",
    "   \n",
    "  #rank long momentum, best highest rank\n",
    "  rocLrank <- t(apply(rocLongQtrs, 1, rank))\n",
    "   \n",
    "  #total rank, long slightly higher than short, sum them\n",
    "  totalRank <- wRankLong * rocLrank + wRankShort * rocSrank \n",
    "   \n",
    "  #function that takes 100% position in highest ranked security\n",
    "  maxRank <- function(rankRow) {\n",
    "    return(rankRow==max(rankRow))\n",
    "  }\n",
    "   \n",
    "  #apply above function to our quarterly ranks every quarter\n",
    "  rankPos <- t(apply(totalRank, 1, maxRank))\n",
    "   \n",
    "  #SMA of securities, only use monthly endpoints\n",
    "  #subset to quarters\n",
    "  #then filter\n",
    "  movAvgType = movAvgType[1]\n",
    "  if(movAvgType==\"monthly\") {\n",
    "    monthlyPrices <- prices[monthlyEps,]\n",
    "    monthlySMAs <- xts(apply(monthlyPrices, 2, SMA, n=nMonthSMA), order.by=index(monthlyPrices))\n",
    "    quarterlySMAs <- monthlySMAs[index(quarterlyPrices),]\n",
    "    smaFilter <- quarterlyPrices > quarterlySMAs\n",
    "  } else if (movAvgType==\"daily\") {\n",
    "    smas <- xts(apply(prices, 2, SMA, n=nDaySMA), order.by=index(prices))\n",
    "    quarterlySMAs <- smas[index(quarterlyPrices),]\n",
    "    smaFilter <- quarterlyPrices > quarterlySMAs\n",
    "  } else {\n",
    "    stop(\"invalid moving average type\")\n",
    "  }\n",
    "   \n",
    "  finalPos <- rankPos*smaFilter\n",
    "  finalPos <- finalPos[!is.na(rocLongQtrs[,1]),]\n",
    "  cash <- xts(1-rowSums(finalPos), order.by=index(finalPos))\n",
    "  finalPos <- merge(finalPos, cash, join='inner')\n",
    "   \n",
    "  prices <- merge(prices, cashPrices, join='inner')\n",
    "  returns <- Return.calculate(prices)\n",
    "  stratRets <- Return.portfolio(returns, finalPos)\n",
    "   \n",
    "  if(returnNames) {\n",
    "    findNames <- function(pos) {\n",
    "      return(names(pos[pos==1]))\n",
    "    }\n",
    "    tmp <- apply(finalPos, 1, findNames)\n",
    "    assetNames <- xts(tmp, order.by=as.Date(names(tmp)))\n",
    "    return(list(assetNames, stratRets))\n",
    "  }\n",
    "  return(stratRets)\n",
    "}"
   ]
  },
  {
   "cell_type": "code",
   "execution_count": null,
   "metadata": {
    "collapsed": false
   },
   "outputs": [],
   "source": []
  }
 ],
 "metadata": {
  "kernelspec": {
   "display_name": "Python 3",
   "language": "python",
   "name": "python3"
  },
  "language_info": {
   "codemirror_mode": {
    "name": "ipython",
    "version": 3
   },
   "file_extension": ".py",
   "mimetype": "text/x-python",
   "name": "python",
   "nbconvert_exporter": "python",
   "pygments_lexer": "ipython3",
   "version": "3.4.3"
  }
 },
 "nbformat": 4,
 "nbformat_minor": 0
}
