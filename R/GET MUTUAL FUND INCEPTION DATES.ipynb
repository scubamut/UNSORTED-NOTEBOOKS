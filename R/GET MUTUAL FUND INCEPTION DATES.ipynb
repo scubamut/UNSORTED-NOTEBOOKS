{
 "cells": [
  {
   "cell_type": "code",
   "execution_count": 9,
   "metadata": {
    "collapsed": false
   },
   "outputs": [
    {
     "name": "stdout",
     "output_type": "stream",
     "text": [
      "https://uk.finance.yahoo.com/q/pr?s=AAAAX  30 Jul 2007 \n",
      "https://uk.finance.yahoo.com/q/pr?s=AAADX  30 Dec 2011 \n",
      "https://uk.finance.yahoo.com/q/pr?s=AAAGX  29 Oct 1999 \n",
      "https://uk.finance.yahoo.com/q/pr?s=AAAIX  1 Aug 2000 \n"
     ]
    }
   ],
   "source": [
    "# Read the list of funds\n",
    "# I assume the file was downloaded manually from \n",
    "#   http://www.eoddata.com/Data/symbollist.aspx?e=USMF\n",
    "# This requires registration (free).\n",
    "d <- read.delim( \"E:\\\\downloads\\\\USMFshort.txt\", stringsAsFactors = FALSE )\n",
    "\n",
    "# Retrieve the profile page, for each of the funds.\n",
    "# It takes 1 second for each, and there are 24,000 of them:\n",
    "# this may take more than 6 hours.\n",
    "library(RCurl)\n",
    "library(stringr)\n",
    "d$Category <- \"\"\n",
    "for( i in seq_len(nrow(d)) ) {\n",
    "  try({\n",
    "    url <- paste0(\"https://uk.finance.yahoo.com/q/pr?s=\", d$Symbol[i])\n",
    "    cat( url, \" \" )\n",
    "    profile <- getURL(url)\n",
    "    row  <- str_extract(profile, \"Inception.*?</tr>\")\n",
    "    cell <- str_extract(row,     \"<td.*</td>\"      )\n",
    "    d$Inception[i] <- str_replace_all( cell, \"<.*?>\", \"\" )\n",
    "    cat( d$Inception[i], \"\\n\" )\n",
    "  })\n",
    "}\n",
    "# head(d)\n",
    "write.csv(d,\"E:\\\\downloads\\\\Inception.csv\")"
   ]
  }
 ],
 "metadata": {
  "kernelspec": {
   "display_name": "R",
   "language": "R",
   "name": "ir"
  },
  "language_info": {
   "codemirror_mode": "r",
   "file_extension": ".r",
   "mimetype": "text/x-r-source",
   "name": "R",
   "pygments_lexer": "r",
   "version": "3.3.1"
  }
 },
 "nbformat": 4,
 "nbformat_minor": 0
}
